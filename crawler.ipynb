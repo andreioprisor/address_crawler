{
 "cells": [
  {
   "cell_type": "code",
   "execution_count": null,
   "metadata": {},
   "outputs": [],
   "source": [
    "import pandas as pd\n",
    "\n",
    "df = pd.read_csv('company_websites.csv')\n",
    "urls_list = df['domain'].tolist()"
   ]
  },
  {
   "cell_type": "code",
   "execution_count": null,
   "metadata": {},
   "outputs": [],
   "source": [
    "from crawler import Crawler\n",
    "import threading\n",
    "import os\n",
    "import pandas as pd\n",
    "\n",
    "df = pd.read_csv('company_websites.csv')\n",
    "urls_list = df['domain'].tolist()\n",
    "\n",
    "def crawl(urls, file_path):\n",
    "\tc = Crawler(urls)\n",
    "\tc.crawl_to_file(file_path)\n",
    "\n",
    "num_threads = 3\n",
    "\n",
    "threads = []\n",
    "for i in range(0, num_threads):\n",
    "\tsegment = []\n",
    "\tif i == num_threads - 1:\n",
    "\t\tsegment = urls_list[i*len(urls_list)//num_threads:]\n",
    "\telse:\n",
    "\t\tsegment = urls_list[i*len(urls_list)//num_threads:(i+1)*len(urls_list)//num_threads]\n",
    "\tt = threading.Thread(target=crawl, args=(segment, f\"crawl_{i}.csv\"))\n",
    "\tthreads.append(t)\n",
    "\tt.start()\n",
    "\n",
    "for t in threads:\n",
    "\tt.join()\n",
    "\t\n",
    "for i in range(0, num_threads):\n",
    "\tdf = pd.read_csv(f'crawl_{i}.csv')\n",
    "\tdf.to_csv('addreses.csv', mode='a', header=False)\n",
    "\tos.remove(f'crawl_{i}.csv')"
   ]
  }
 ],
 "metadata": {
  "kernelspec": {
   "display_name": "Python 3",
   "language": "python",
   "name": "python3"
  },
  "language_info": {
   "codemirror_mode": {
    "name": "ipython",
    "version": 3
   },
   "file_extension": ".py",
   "mimetype": "text/x-python",
   "name": "python",
   "nbconvert_exporter": "python",
   "pygments_lexer": "ipython3",
   "version": "3.10.12"
  }
 },
 "nbformat": 4,
 "nbformat_minor": 2
}
